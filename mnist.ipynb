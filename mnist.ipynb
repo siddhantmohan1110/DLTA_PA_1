{
  "nbformat": 4,
  "nbformat_minor": 0,
  "metadata": {
    "colab": {
      "name": "mnist.ipynb",
      "provenance": [],
      "collapsed_sections": [],
      "include_colab_link": true
    },
    "kernelspec": {
      "name": "python3",
      "display_name": "Python 3"
    }
  },
  "cells": [
    {
      "cell_type": "markdown",
      "metadata": {
        "id": "view-in-github",
        "colab_type": "text"
      },
      "source": [
        "<a href=\"https://colab.research.google.com/github/siddhantmohan1110/DLTA_PA_1/blob/master/mnist.ipynb\" target=\"_parent\"><img src=\"https://colab.research.google.com/assets/colab-badge.svg\" alt=\"Open In Colab\"/></a>"
      ]
    },
    {
      "cell_type": "code",
      "metadata": {
        "id": "xucOs4Jgufa4",
        "colab_type": "code",
        "colab": {}
      },
      "source": [
        "import torch\n",
        "from sklearn.metrics import confusion_matrix, accuracy_score\n",
        "\n",
        "(x_train, y_train, x_test, y_test)=torch.load('mnist.pt') #Loaded the dataset"
      ],
      "execution_count": 0,
      "outputs": []
    },
    {
      "cell_type": "code",
      "metadata": {
        "id": "brlxWL1L3ixO",
        "colab_type": "code",
        "colab": {}
      },
      "source": [
        "x_train.view(-1,784)\n",
        "x_test.view(-1,784) #Resized the images into 784*1 vector"
      ],
      "execution_count": 0,
      "outputs": []
    },
    {
      "cell_type": "code",
      "metadata": {
        "id": "AuTA36N-bi6_",
        "colab_type": "code",
        "colab": {}
      },
      "source": [
        "#Function for KNN classificaton\n",
        "def knn(x_train,y_train,x_test,k=1):\n",
        "  train_size=x_train.size()[0]\n",
        "  test_size=x_test.size()[0]\n",
        "  y_pred=torch.zeros(test_size)\n",
        "  dist=torch.zeros(train_size)\n",
        "  for i in range(test_size):\n",
        "    for j in range(train_size):\n",
        "      dist[j]=torch.dist(x_test[i,:].float(),x_train[j,:].float()) \n",
        "      #Computing Euclidean distance between given test vector and all training vectors \n",
        "    nearest=y_train[dist.argsort()[:k]] #Finding k nearest neighbours\n",
        "    label,freq = torch.unique(nearest,return_counts=True)  #Majority voting among neighbours\n",
        "    y_pred[i]=label[freq.argsort(descending=True)[0]]  \n",
        "  return y_pred #Returning predicted classes\n",
        "  "
      ],
      "execution_count": 0,
      "outputs": []
    },
    {
      "cell_type": "code",
      "metadata": {
        "id": "X6tmTR_KuraI",
        "colab_type": "code",
        "colab": {}
      },
      "source": [
        "y_pred_1=knn(x_train,y_train,x_test,1) #k=1"
      ],
      "execution_count": 0,
      "outputs": []
    },
    {
      "cell_type": "code",
      "metadata": {
        "id": "l_K1OjnFuwWW",
        "colab_type": "code",
        "outputId": "b4bd6909-0d7d-427b-83a0-7a5576b01e1b",
        "colab": {
          "base_uri": "https://localhost:8080/",
          "height": 187
        }
      },
      "source": [
        "confusion_matrix(y_test,y_pred_1) #Computing confusion matrix"
      ],
      "execution_count": 6,
      "outputs": [
        {
          "output_type": "execute_result",
          "data": {
            "text/plain": [
              "array([[ 8,  0,  0,  0,  0,  0,  0,  0,  0,  0],\n",
              "       [ 0, 14,  0,  0,  0,  0,  0,  0,  0,  0],\n",
              "       [ 0,  0,  7,  1,  0,  0,  0,  0,  0,  0],\n",
              "       [ 0,  0,  0,  8,  0,  2,  0,  0,  0,  1],\n",
              "       [ 0,  0,  0,  0, 10,  0,  0,  0,  0,  4],\n",
              "       [ 0,  1,  0,  1,  1,  4,  0,  0,  0,  0],\n",
              "       [ 2,  0,  0,  0,  0,  0,  8,  0,  0,  0],\n",
              "       [ 0,  0,  0,  0,  0,  0,  0, 14,  0,  1],\n",
              "       [ 0,  0,  1,  0,  0,  0,  0,  0,  1,  0],\n",
              "       [ 0,  0,  0,  0,  1,  0,  0,  1,  0,  9]])"
            ]
          },
          "metadata": {
            "tags": []
          },
          "execution_count": 6
        }
      ]
    },
    {
      "cell_type": "code",
      "metadata": {
        "id": "yqbZlne7ySnv",
        "colab_type": "code",
        "outputId": "b3015ff2-d0ad-4d39-c9e5-140ad5785137",
        "colab": {
          "base_uri": "https://localhost:8080/",
          "height": 34
        }
      },
      "source": [
        "accuracy_score(y_test,y_pred_1) #Computing accuracy score"
      ],
      "execution_count": 7,
      "outputs": [
        {
          "output_type": "execute_result",
          "data": {
            "text/plain": [
              "0.83"
            ]
          },
          "metadata": {
            "tags": []
          },
          "execution_count": 7
        }
      ]
    },
    {
      "cell_type": "code",
      "metadata": {
        "id": "1DDhPTuigyTB",
        "colab_type": "code",
        "colab": {}
      },
      "source": [
        "y_pred_3=knn(x_train,y_train,x_test,3) #k=3"
      ],
      "execution_count": 0,
      "outputs": []
    },
    {
      "cell_type": "code",
      "metadata": {
        "id": "uyEXGPbjgyaP",
        "colab_type": "code",
        "outputId": "0d929124-c270-4222-fe85-89ec22899c06",
        "colab": {
          "base_uri": "https://localhost:8080/",
          "height": 187
        }
      },
      "source": [
        "confusion_matrix(y_test,y_pred_3) #Computing confusion matrix"
      ],
      "execution_count": 9,
      "outputs": [
        {
          "output_type": "execute_result",
          "data": {
            "text/plain": [
              "array([[ 8,  0,  0,  0,  0,  0,  0,  0,  0,  0],\n",
              "       [ 0, 14,  0,  0,  0,  0,  0,  0,  0,  0],\n",
              "       [ 1,  1,  6,  0,  0,  0,  0,  0,  0,  0],\n",
              "       [ 0,  1,  1,  8,  0,  0,  0,  0,  0,  1],\n",
              "       [ 0,  0,  0,  0, 10,  0,  0,  0,  0,  4],\n",
              "       [ 0,  1,  0,  1,  1,  4,  0,  0,  0,  0],\n",
              "       [ 2,  0,  0,  0,  0,  0,  8,  0,  0,  0],\n",
              "       [ 0,  0,  0,  0,  0,  0,  0, 14,  0,  1],\n",
              "       [ 0,  0,  0,  0,  0,  0,  0,  0,  2,  0],\n",
              "       [ 0,  0,  0,  0,  0,  0,  0,  2,  0,  9]])"
            ]
          },
          "metadata": {
            "tags": []
          },
          "execution_count": 9
        }
      ]
    },
    {
      "cell_type": "code",
      "metadata": {
        "id": "7uFV5t55gyid",
        "colab_type": "code",
        "outputId": "16bde386-6c32-47bd-91df-013dc7d034dc",
        "colab": {
          "base_uri": "https://localhost:8080/",
          "height": 34
        }
      },
      "source": [
        "accuracy_score(y_test,y_pred_3) #Computing accuracy score"
      ],
      "execution_count": 10,
      "outputs": [
        {
          "output_type": "execute_result",
          "data": {
            "text/plain": [
              "0.83"
            ]
          },
          "metadata": {
            "tags": []
          },
          "execution_count": 10
        }
      ]
    },
    {
      "cell_type": "code",
      "metadata": {
        "id": "AQnroT1CgytO",
        "colab_type": "code",
        "colab": {}
      },
      "source": [
        "y_pred_5=knn(x_train,y_train,x_test,5) #k=5"
      ],
      "execution_count": 0,
      "outputs": []
    },
    {
      "cell_type": "code",
      "metadata": {
        "id": "4uV_GSVagy1a",
        "colab_type": "code",
        "outputId": "33240c33-d6c9-47f2-b676-51cd245b8d29",
        "colab": {
          "base_uri": "https://localhost:8080/",
          "height": 187
        }
      },
      "source": [
        "confusion_matrix(y_test,y_pred_5) #Computing confusion matrix"
      ],
      "execution_count": 12,
      "outputs": [
        {
          "output_type": "execute_result",
          "data": {
            "text/plain": [
              "array([[ 8,  0,  0,  0,  0,  0,  0,  0,  0,  0],\n",
              "       [ 0, 14,  0,  0,  0,  0,  0,  0,  0,  0],\n",
              "       [ 0,  1,  6,  0,  1,  0,  0,  0,  0,  0],\n",
              "       [ 0,  1,  1,  8,  0,  0,  0,  0,  0,  1],\n",
              "       [ 0,  0,  0,  0, 11,  0,  0,  0,  0,  3],\n",
              "       [ 0,  1,  0,  1,  1,  4,  0,  0,  0,  0],\n",
              "       [ 1,  0,  0,  0,  1,  0,  8,  0,  0,  0],\n",
              "       [ 0,  0,  0,  0,  0,  0,  0, 14,  0,  1],\n",
              "       [ 0,  0,  0,  0,  0,  0,  0,  0,  2,  0],\n",
              "       [ 0,  0,  0,  0,  0,  0,  0,  2,  0,  9]])"
            ]
          },
          "metadata": {
            "tags": []
          },
          "execution_count": 12
        }
      ]
    },
    {
      "cell_type": "code",
      "metadata": {
        "id": "qOY8phPsgy_p",
        "colab_type": "code",
        "outputId": "70e74a7f-d995-4c01-e788-5dee04073732",
        "colab": {
          "base_uri": "https://localhost:8080/",
          "height": 34
        }
      },
      "source": [
        "accuracy_score(y_test,y_pred_5) #Computing accuracy score"
      ],
      "execution_count": 13,
      "outputs": [
        {
          "output_type": "execute_result",
          "data": {
            "text/plain": [
              "0.84"
            ]
          },
          "metadata": {
            "tags": []
          },
          "execution_count": 13
        }
      ]
    }
  ]
}
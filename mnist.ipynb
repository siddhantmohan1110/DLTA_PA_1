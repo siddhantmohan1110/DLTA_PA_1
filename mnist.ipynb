{
  "nbformat": 4,
  "nbformat_minor": 0,
  "metadata": {
    "colab": {
      "name": "mnist.ipynb",
      "version": "0.3.2",
      "provenance": [],
      "collapsed_sections": [],
      "include_colab_link": true
    },
    "kernelspec": {
      "name": "python3",
      "display_name": "Python 3"
    }
  },
  "cells": [
    {
      "cell_type": "markdown",
      "metadata": {
        "id": "view-in-github",
        "colab_type": "text"
      },
      "source": [
        "<a href=\"https://colab.research.google.com/github/siddhantmohan1110/DLTA_PA_1/blob/master/mnist.ipynb\" target=\"_parent\"><img src=\"https://colab.research.google.com/assets/colab-badge.svg\" alt=\"Open In Colab\"/></a>"
      ]
    },
    {
      "cell_type": "code",
      "metadata": {
        "id": "xucOs4Jgufa4",
        "colab_type": "code",
        "colab": {}
      },
      "source": [
        "import torch\n",
        "from sklearn.metrics import confusion_matrix, accuracy_score\n",
        "(x_train, y_train, x_test, y_test)=torch.load('mnist.pt')"
      ],
      "execution_count": 0,
      "outputs": []
    },
    {
      "cell_type": "code",
      "metadata": {
        "id": "brlxWL1L3ixO",
        "colab_type": "code",
        "colab": {
          "base_uri": "https://localhost:8080/",
          "height": 136
        },
        "outputId": "e7433c54-8c98-414a-a171-6e86bdeb5712"
      },
      "source": [
        "x_train.view(-1,784)\n",
        "x_test.view(-1,784)"
      ],
      "execution_count": 55,
      "outputs": [
        {
          "output_type": "execute_result",
          "data": {
            "text/plain": [
              "tensor([[0, 0, 0,  ..., 0, 0, 0],\n",
              "        [0, 0, 0,  ..., 0, 0, 0],\n",
              "        [0, 0, 0,  ..., 0, 0, 0],\n",
              "        ...,\n",
              "        [0, 0, 0,  ..., 0, 0, 0],\n",
              "        [0, 0, 0,  ..., 0, 0, 0],\n",
              "        [0, 0, 0,  ..., 0, 0, 0]], dtype=torch.uint8)"
            ]
          },
          "metadata": {
            "tags": []
          },
          "execution_count": 55
        }
      ]
    },
    {
      "cell_type": "code",
      "metadata": {
        "id": "AuTA36N-bi6_",
        "colab_type": "code",
        "colab": {}
      },
      "source": [
        "def knn(x_train,x_test,k=1):\n",
        "  train_size=x_train.size()[0]\n",
        "  test_size=x_test.size()[0]\n",
        "  y_pred=torch.zeros(test_size)\n",
        "  dist=torch.zeros(train_size)\n",
        "  for i in range(test_size):\n",
        "    for j in range(train_size):\n",
        "      dist[j]=torch.dist(x_test[i,:].float(),x_train[j,:].float())\n",
        "    nearest=y_train[dist.argsort()[:k]]\n",
        "    label,freq = torch.unique(nearest,return_counts=True)\n",
        "    y_pred[i]=label[freq.argsort(descending=True)[0]]\n",
        "  return y_pred\n",
        "  "
      ],
      "execution_count": 0,
      "outputs": []
    },
    {
      "cell_type": "code",
      "metadata": {
        "id": "X6tmTR_KuraI",
        "colab_type": "code",
        "colab": {}
      },
      "source": [
        "y_pred=knn(x_train,x_test,3)"
      ],
      "execution_count": 0,
      "outputs": []
    },
    {
      "cell_type": "code",
      "metadata": {
        "id": "l_K1OjnFuwWW",
        "colab_type": "code",
        "outputId": "b6b33c15-4f65-45b2-8629-48401590b462",
        "colab": {
          "base_uri": "https://localhost:8080/",
          "height": 187
        }
      },
      "source": [
        "confusion_matrix(y_test,y_pred)"
      ],
      "execution_count": 58,
      "outputs": [
        {
          "output_type": "execute_result",
          "data": {
            "text/plain": [
              "array([[ 8,  0,  0,  0,  0,  0,  0,  0,  0,  0],\n",
              "       [ 0, 14,  0,  0,  0,  0,  0,  0,  0,  0],\n",
              "       [ 1,  1,  6,  0,  0,  0,  0,  0,  0,  0],\n",
              "       [ 0,  1,  1,  8,  0,  0,  0,  0,  0,  1],\n",
              "       [ 0,  0,  0,  0, 10,  0,  0,  0,  0,  4],\n",
              "       [ 0,  1,  0,  1,  1,  4,  0,  0,  0,  0],\n",
              "       [ 2,  0,  0,  0,  0,  0,  8,  0,  0,  0],\n",
              "       [ 0,  0,  0,  0,  0,  0,  0, 14,  0,  1],\n",
              "       [ 0,  0,  0,  0,  0,  0,  0,  0,  2,  0],\n",
              "       [ 0,  0,  0,  0,  0,  0,  0,  2,  0,  9]])"
            ]
          },
          "metadata": {
            "tags": []
          },
          "execution_count": 58
        }
      ]
    },
    {
      "cell_type": "code",
      "metadata": {
        "id": "yqbZlne7ySnv",
        "colab_type": "code",
        "outputId": "2f4aed5c-272b-478e-80f3-eec7477ff657",
        "colab": {
          "base_uri": "https://localhost:8080/",
          "height": 34
        }
      },
      "source": [
        "accuracy_score(y_test,y_pred)"
      ],
      "execution_count": 59,
      "outputs": [
        {
          "output_type": "execute_result",
          "data": {
            "text/plain": [
              "0.83"
            ]
          },
          "metadata": {
            "tags": []
          },
          "execution_count": 59
        }
      ]
    }
  ]
}
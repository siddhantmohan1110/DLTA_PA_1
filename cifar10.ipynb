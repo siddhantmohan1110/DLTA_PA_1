{
  "nbformat": 4,
  "nbformat_minor": 0,
  "metadata": {
    "colab": {
      "name": "cifar10.ipynb",
      "version": "0.3.2",
      "provenance": [],
      "collapsed_sections": [],
      "include_colab_link": true
    },
    "kernelspec": {
      "name": "python3",
      "display_name": "Python 3"
    }
  },
  "cells": [
    {
      "cell_type": "markdown",
      "metadata": {
        "id": "view-in-github",
        "colab_type": "text"
      },
      "source": [
        "<a href=\"https://colab.research.google.com/github/siddhantmohan1110/DLTA_PA_1/blob/master/cifar10.ipynb\" target=\"_parent\"><img src=\"https://colab.research.google.com/assets/colab-badge.svg\" alt=\"Open In Colab\"/></a>"
      ]
    },
    {
      "cell_type": "code",
      "metadata": {
        "id": "dYWNjOI496Rq",
        "colab_type": "code",
        "colab": {}
      },
      "source": [
        "import torch \n",
        "from sklearn.metrics import confusion_matrix, accuracy_score\n",
        "(x_train_raw, y_train, x_test_raw, y_test)=torch.load('cifar10.pt')"
      ],
      "execution_count": 0,
      "outputs": []
    },
    {
      "cell_type": "code",
      "metadata": {
        "id": "JYCPIVvmGVGw",
        "colab_type": "code",
        "colab": {}
      },
      "source": [
        "train_size=x_train_raw.size()[0]\n",
        "test_size=x_test_raw.size()[0]"
      ],
      "execution_count": 0,
      "outputs": []
    },
    {
      "cell_type": "code",
      "metadata": {
        "id": "JfWD1dyi-5iE",
        "colab_type": "code",
        "colab": {}
      },
      "source": [
        "x_train=torch.zeros(train_size,768);\n",
        "x_test=torch.zeros(test_size,768);\n",
        "x_train_raw=x_train_raw.float()\n",
        "x_test_raw=x_test_raw.float()\n",
        "for i in range(train_size):\n",
        "  torch.histc(x_train_raw[i,:,:,0],bins=256,min=0,max=255,out=x_train[i,:256])\n",
        "  torch.histc(x_train_raw[i,:,:,1],bins=256,min=0,max=255,out=x_train[i,256:512])\n",
        "  torch.histc(x_train_raw[i,:,:,2],bins=256,min=0,max=255,out=x_train[i,512:768])\n",
        "  \n",
        "for i in range(test_size):\n",
        "  torch.histc(x_test_raw[i,:,:,0],bins=256,min=0,max=255,out=x_test[i,:256])\n",
        "  torch.histc(x_test_raw[i,:,:,1],bins=256,min=0,max=255,out=x_test[i,256:512])\n",
        "  torch.histc(x_test_raw[i,:,:,2],bins=256,min=0,max=255,out=x_test[i,512:768])"
      ],
      "execution_count": 0,
      "outputs": []
    },
    {
      "cell_type": "code",
      "metadata": {
        "id": "qEE-rDxXJq9v",
        "colab_type": "code",
        "colab": {}
      },
      "source": [
        "def knn(x_train,x_test,k=1):\n",
        "  train_size=x_train.size()[0]\n",
        "  test_size=x_test.size()[0]\n",
        "  y_pred=torch.zeros(test_size)\n",
        "  dist=torch.zeros(train_size)\n",
        "  for i in range(test_size):\n",
        "    for j in range(train_size):\n",
        "      dist[j]=torch.dist(x_test[i,:].float(),x_train[j,:].float())\n",
        "    nearest=y_train[dist.argsort()[:k]]\n",
        "    label,freq = torch.unique(nearest,return_counts=True)\n",
        "    y_pred[i]=label[freq.argsort(descending=True)[0]]\n",
        "  return y_pred\n"
      ],
      "execution_count": 0,
      "outputs": []
    },
    {
      "cell_type": "code",
      "metadata": {
        "id": "HsVFehbLKcto",
        "colab_type": "code",
        "colab": {}
      },
      "source": [
        "y_pred=knn(x_train,x_test,3)"
      ],
      "execution_count": 0,
      "outputs": []
    },
    {
      "cell_type": "code",
      "metadata": {
        "id": "hKFd4O2qKhJK",
        "colab_type": "code",
        "colab": {
          "base_uri": "https://localhost:8080/",
          "height": 187
        },
        "outputId": "94a45de9-c99a-43ad-8c5e-0341967efba4"
      },
      "source": [
        "confusion_matrix(y_test,y_pred)"
      ],
      "execution_count": 33,
      "outputs": [
        {
          "output_type": "execute_result",
          "data": {
            "text/plain": [
              "array([[4, 1, 0, 2, 0, 0, 2, 0, 1, 0],\n",
              "       [0, 2, 2, 0, 1, 0, 1, 0, 0, 0],\n",
              "       [1, 2, 2, 0, 1, 0, 1, 1, 0, 0],\n",
              "       [0, 3, 1, 1, 1, 0, 2, 0, 0, 2],\n",
              "       [0, 1, 3, 0, 0, 1, 1, 0, 0, 1],\n",
              "       [0, 3, 2, 2, 0, 0, 0, 0, 0, 1],\n",
              "       [1, 1, 3, 6, 3, 0, 2, 0, 0, 0],\n",
              "       [2, 2, 3, 1, 1, 0, 1, 0, 0, 1],\n",
              "       [5, 4, 1, 1, 0, 0, 0, 0, 1, 1],\n",
              "       [1, 3, 0, 2, 1, 0, 1, 0, 0, 3]])"
            ]
          },
          "metadata": {
            "tags": []
          },
          "execution_count": 33
        }
      ]
    },
    {
      "cell_type": "code",
      "metadata": {
        "id": "lfj5QJ_iMDSt",
        "colab_type": "code",
        "colab": {
          "base_uri": "https://localhost:8080/",
          "height": 34
        },
        "outputId": "8b7b59eb-4e65-4a0e-dc93-51d49a084247"
      },
      "source": [
        "accuracy_score(y_test,y_pred)"
      ],
      "execution_count": 34,
      "outputs": [
        {
          "output_type": "execute_result",
          "data": {
            "text/plain": [
              "0.15"
            ]
          },
          "metadata": {
            "tags": []
          },
          "execution_count": 34
        }
      ]
    }
  ]
}
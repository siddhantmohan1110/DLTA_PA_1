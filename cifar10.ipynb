{
  "nbformat": 4,
  "nbformat_minor": 0,
  "metadata": {
    "colab": {
      "name": "cifar10.ipynb",
      "provenance": [],
      "collapsed_sections": [],
      "include_colab_link": true
    },
    "kernelspec": {
      "name": "python3",
      "display_name": "Python 3"
    }
  },
  "cells": [
    {
      "cell_type": "markdown",
      "metadata": {
        "id": "view-in-github",
        "colab_type": "text"
      },
      "source": [
        "<a href=\"https://colab.research.google.com/github/siddhantmohan1110/DLTA_PA_1/blob/master/cifar10.ipynb\" target=\"_parent\"><img src=\"https://colab.research.google.com/assets/colab-badge.svg\" alt=\"Open In Colab\"/></a>"
      ]
    },
    {
      "cell_type": "code",
      "metadata": {
        "id": "dYWNjOI496Rq",
        "colab_type": "code",
        "colab": {}
      },
      "source": [
        "import torch \n",
        "from sklearn.metrics import confusion_matrix, accuracy_score\n",
        "\n",
        "(x_train_raw, y_train, x_test_raw, y_test)=torch.load('cifar10.pt') #Loaded the dataset"
      ],
      "execution_count": 0,
      "outputs": []
    },
    {
      "cell_type": "code",
      "metadata": {
        "id": "JYCPIVvmGVGw",
        "colab_type": "code",
        "colab": {}
      },
      "source": [
        "train_size=x_train_raw.size()[0]\n",
        "test_size=x_test_raw.size()[0] #Finding size of training and test data"
      ],
      "execution_count": 0,
      "outputs": []
    },
    {
      "cell_type": "code",
      "metadata": {
        "id": "JfWD1dyi-5iE",
        "colab_type": "code",
        "colab": {}
      },
      "source": [
        "x_train=torch.zeros(train_size,768);\n",
        "x_test=torch.zeros(test_size,768);\n",
        "x_train_raw=x_train_raw.float()\n",
        "x_test_raw=x_test_raw.float() \n",
        "\n",
        "for i in range(train_size): #Computing histogram  for training data\n",
        "  torch.histc(x_train_raw[i,:,:,0],bins=256,min=0,max=255,out=x_train[i,:256])\n",
        "  torch.histc(x_train_raw[i,:,:,1],bins=256,min=0,max=255,out=x_train[i,256:512])\n",
        "  torch.histc(x_train_raw[i,:,:,2],bins=256,min=0,max=255,out=x_train[i,512:768])\n",
        "  \n",
        "for i in range(test_size): #Computing histogram for test data\n",
        "  torch.histc(x_test_raw[i,:,:,0],bins=256,min=0,max=255,out=x_test[i,:256])\n",
        "  torch.histc(x_test_raw[i,:,:,1],bins=256,min=0,max=255,out=x_test[i,256:512])\n",
        "  torch.histc(x_test_raw[i,:,:,2],bins=256,min=0,max=255,out=x_test[i,512:768])"
      ],
      "execution_count": 0,
      "outputs": []
    },
    {
      "cell_type": "code",
      "metadata": {
        "id": "qEE-rDxXJq9v",
        "colab_type": "code",
        "colab": {}
      },
      "source": [
        "#Function for KNN classificaton\n",
        "def knn(x_train,y_train,x_test,k=1):\n",
        "  train_size=x_train.size()[0]\n",
        "  test_size=x_test.size()[0]\n",
        "  y_pred=torch.zeros(test_size)\n",
        "  dist=torch.zeros(train_size)\n",
        "  for i in range(test_size):\n",
        "    for j in range(train_size):\n",
        "      dist[j]=torch.dist(x_test[i,:].float(),x_train[j,:].float()) \n",
        "      #Computing Euclidean distance between given test vector and all training vectors \n",
        "    nearest=y_train[dist.argsort()[:k]] #Finding k nearest neighbours\n",
        "    label,freq = torch.unique(nearest,return_counts=True)  #Majority voting among neighbours\n",
        "    y_pred[i]=label[freq.argsort(descending=True)[0]]  \n",
        "  return y_pred #Returning predicted classes\n",
        "  "
      ],
      "execution_count": 0,
      "outputs": []
    },
    {
      "cell_type": "code",
      "metadata": {
        "id": "HsVFehbLKcto",
        "colab_type": "code",
        "colab": {}
      },
      "source": [
        "y_pred_1=knn(x_train,y_train,x_test,1) #k=1"
      ],
      "execution_count": 0,
      "outputs": []
    },
    {
      "cell_type": "code",
      "metadata": {
        "id": "hKFd4O2qKhJK",
        "colab_type": "code",
        "outputId": "5aa8f5a5-61ac-4d3c-8c29-c6095bfd425e",
        "colab": {
          "base_uri": "https://localhost:8080/",
          "height": 187
        }
      },
      "source": [
        "confusion_matrix(y_test,y_pred_1) #Computing confusion matrix"
      ],
      "execution_count": 9,
      "outputs": [
        {
          "output_type": "execute_result",
          "data": {
            "text/plain": [
              "array([[2, 1, 0, 1, 1, 0, 4, 0, 1, 0],\n",
              "       [0, 2, 0, 0, 0, 1, 0, 0, 1, 2],\n",
              "       [0, 3, 1, 1, 1, 1, 0, 0, 0, 1],\n",
              "       [0, 1, 0, 0, 1, 1, 2, 1, 0, 4],\n",
              "       [0, 0, 2, 2, 0, 2, 1, 0, 0, 0],\n",
              "       [0, 2, 1, 1, 0, 1, 2, 0, 0, 1],\n",
              "       [0, 0, 0, 3, 3, 0, 8, 2, 0, 0],\n",
              "       [1, 1, 0, 1, 1, 1, 1, 3, 0, 2],\n",
              "       [5, 1, 0, 3, 0, 0, 1, 0, 1, 2],\n",
              "       [0, 2, 0, 1, 1, 1, 1, 0, 1, 4]])"
            ]
          },
          "metadata": {
            "tags": []
          },
          "execution_count": 9
        }
      ]
    },
    {
      "cell_type": "code",
      "metadata": {
        "id": "lfj5QJ_iMDSt",
        "colab_type": "code",
        "outputId": "9a1fbeab-5696-4af1-ca20-64d0c56d7367",
        "colab": {
          "base_uri": "https://localhost:8080/",
          "height": 34
        }
      },
      "source": [
        "accuracy_score(y_test,y_pred_1) #Computing accuracy score"
      ],
      "execution_count": 10,
      "outputs": [
        {
          "output_type": "execute_result",
          "data": {
            "text/plain": [
              "0.22"
            ]
          },
          "metadata": {
            "tags": []
          },
          "execution_count": 10
        }
      ]
    },
    {
      "cell_type": "code",
      "metadata": {
        "id": "anhvRl5WfXye",
        "colab_type": "code",
        "colab": {}
      },
      "source": [
        "y_pred_3=knn(x_train,y_train,x_test,3) #k=3"
      ],
      "execution_count": 0,
      "outputs": []
    },
    {
      "cell_type": "code",
      "metadata": {
        "id": "mud9SHnxfdC6",
        "colab_type": "code",
        "outputId": "f10c28bb-8c80-4b75-9d10-d47f8cb7d2ea",
        "colab": {
          "base_uri": "https://localhost:8080/",
          "height": 187
        }
      },
      "source": [
        "confusion_matrix(y_test,y_pred_3) #Computing confusion matrix"
      ],
      "execution_count": 12,
      "outputs": [
        {
          "output_type": "execute_result",
          "data": {
            "text/plain": [
              "array([[4, 1, 0, 2, 0, 0, 2, 0, 1, 0],\n",
              "       [0, 2, 2, 0, 1, 0, 1, 0, 0, 0],\n",
              "       [1, 2, 2, 0, 1, 0, 1, 1, 0, 0],\n",
              "       [0, 3, 1, 1, 1, 0, 2, 0, 0, 2],\n",
              "       [0, 1, 3, 0, 0, 1, 1, 0, 0, 1],\n",
              "       [0, 3, 2, 2, 0, 0, 0, 0, 0, 1],\n",
              "       [1, 1, 3, 6, 3, 0, 2, 0, 0, 0],\n",
              "       [2, 2, 3, 1, 1, 0, 1, 0, 0, 1],\n",
              "       [5, 4, 1, 1, 0, 0, 0, 0, 1, 1],\n",
              "       [1, 3, 0, 2, 1, 0, 1, 0, 0, 3]])"
            ]
          },
          "metadata": {
            "tags": []
          },
          "execution_count": 12
        }
      ]
    },
    {
      "cell_type": "code",
      "metadata": {
        "id": "hM3HkxohfgRS",
        "colab_type": "code",
        "outputId": "02e24526-4c62-4ce1-fdb8-6e2d4a539a7f",
        "colab": {
          "base_uri": "https://localhost:8080/",
          "height": 34
        }
      },
      "source": [
        "accuracy_score(y_test,y_pred_3) #Computing accuracy score"
      ],
      "execution_count": 13,
      "outputs": [
        {
          "output_type": "execute_result",
          "data": {
            "text/plain": [
              "0.15"
            ]
          },
          "metadata": {
            "tags": []
          },
          "execution_count": 13
        }
      ]
    },
    {
      "cell_type": "code",
      "metadata": {
        "id": "--3yT9NZfYVI",
        "colab_type": "code",
        "colab": {}
      },
      "source": [
        "y_pred_5=knn(x_train,y_train,x_test,5) #k=5"
      ],
      "execution_count": 0,
      "outputs": []
    },
    {
      "cell_type": "code",
      "metadata": {
        "id": "CXlGGup_fdvr",
        "colab_type": "code",
        "outputId": "fc7fb45c-f5d1-4398-a91a-6a5effd3e423",
        "colab": {
          "base_uri": "https://localhost:8080/",
          "height": 187
        }
      },
      "source": [
        "confusion_matrix(y_test,y_pred_5) #Computing confusion matrix"
      ],
      "execution_count": 15,
      "outputs": [
        {
          "output_type": "execute_result",
          "data": {
            "text/plain": [
              "array([[4, 1, 0, 1, 0, 0, 2, 0, 2, 0],\n",
              "       [1, 2, 1, 0, 2, 0, 0, 0, 0, 0],\n",
              "       [1, 2, 2, 0, 0, 0, 2, 1, 0, 0],\n",
              "       [0, 3, 1, 1, 0, 0, 4, 0, 0, 1],\n",
              "       [0, 0, 3, 0, 0, 1, 2, 0, 0, 1],\n",
              "       [0, 3, 1, 1, 0, 0, 0, 1, 0, 2],\n",
              "       [1, 0, 1, 5, 4, 3, 2, 0, 0, 0],\n",
              "       [4, 2, 2, 0, 1, 0, 1, 0, 0, 1],\n",
              "       [3, 4, 0, 1, 0, 2, 0, 0, 1, 2],\n",
              "       [1, 2, 0, 4, 0, 0, 1, 0, 0, 3]])"
            ]
          },
          "metadata": {
            "tags": []
          },
          "execution_count": 15
        }
      ]
    },
    {
      "cell_type": "code",
      "metadata": {
        "id": "chMGU7BtfiYd",
        "colab_type": "code",
        "outputId": "ab59f4e3-012a-4e90-a1bd-d8f1d59585c0",
        "colab": {
          "base_uri": "https://localhost:8080/",
          "height": 34
        }
      },
      "source": [
        "accuracy_score(y_test,y_pred_5) #Computing accuracy score"
      ],
      "execution_count": 16,
      "outputs": [
        {
          "output_type": "execute_result",
          "data": {
            "text/plain": [
              "0.15"
            ]
          },
          "metadata": {
            "tags": []
          },
          "execution_count": 16
        }
      ]
    }
  ]
}